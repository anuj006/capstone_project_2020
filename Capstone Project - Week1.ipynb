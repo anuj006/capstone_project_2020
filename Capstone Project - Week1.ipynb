{
 "cells": [
  {
   "cell_type": "markdown",
   "metadata": {
    "collapsed": true
   },
   "source": [
    "# Capstone Project - The Battle of Neighborhoods (Week 1)"
   ]
  },
  {
   "cell_type": "markdown",
   "metadata": {},
   "source": [
    "## Introduction / Business Problem"
   ]
  },
  {
   "cell_type": "markdown",
   "metadata": {},
   "source": [
    "The principles of data science can be applied to understand customer preferences about the frequently visited places over the past years which can be useful to suggest the best neighborhoods to consider living when relocating and further provide customers with a list of apartments for a virtual or an in-person tour. The target audience can be anyone who is looking forward for relocation due to a new job or even finding new apartment in the same city.\n",
    "\n",
    "The problem that will be addressed though this capstone project focuses on streamlining the relocation process based on customer preferences on places they visit the most through a small survey. Every one of us go out and eat at a restaurant, bar, café or even at a food truck. Grocery picking, supermarket visits or shopping at a clothing store – everyone of us has some sort of preferences, taste and spending style which is a core and essential part of our daily life. Some might shop a lot and would like to stay closer to a neighborhood that has good variety of shopping stores while others might love spending time at a bar or a café and would prefer neighborhood with bar/cafes as their primary choice.\n",
    "\n",
    "Data science tools and techniques can be leveraged to shortlist best locations based on customer’s top preferences. Furthermore, the customers can provide their work location, commute time requirements and rent budget to get top list of apartments which can be considered for a potential tour."
   ]
  },
  {
   "cell_type": "markdown",
   "metadata": {},
   "source": [
    "## Data"
   ]
  },
  {
   "cell_type": "markdown",
   "metadata": {},
   "source": [
    "### A) Customer Survey"
   ]
  },
  {
   "cell_type": "markdown",
   "metadata": {},
   "source": [
    "I did a survey with my wife to understand the places we have visited the most in the past couple years which includes everything ranging from grocery picking to the type of cuisine we like the most. The data is stored in a csv file and imported into pandas dataframe."
   ]
  },
  {
   "cell_type": "markdown",
   "metadata": {},
   "source": [
    "### B) Python Package"
   ]
  },
  {
   "cell_type": "markdown",
   "metadata": {},
   "source": [
    "The geopy python client will be used to retrieve latitude and longitude positions of different neighborhoods and places. This would be needed to further make queries to the foursquare API."
   ]
  },
  {
   "cell_type": "markdown",
   "metadata": {},
   "source": [
    "### C) Application Programming Interface (API)"
   ]
  },
  {
   "cell_type": "markdown",
   "metadata": {},
   "source": [
    "The Foursquare API will be used to retrieve information about the places and venues - category of places, in particular. The Realtor API will be used to retrieve information about apartments like rent, type of apartment, address etc."
   ]
  },
  {
   "cell_type": "code",
   "execution_count": null,
   "metadata": {},
   "outputs": [],
   "source": []
  }
 ],
 "metadata": {
  "kernelspec": {
   "display_name": "Python 3.6",
   "language": "python",
   "name": "python3"
  },
  "language_info": {
   "codemirror_mode": {
    "name": "ipython",
    "version": 3
   },
   "file_extension": ".py",
   "mimetype": "text/x-python",
   "name": "python",
   "nbconvert_exporter": "python",
   "pygments_lexer": "ipython3",
   "version": "3.6.9"
  }
 },
 "nbformat": 4,
 "nbformat_minor": 1
}
